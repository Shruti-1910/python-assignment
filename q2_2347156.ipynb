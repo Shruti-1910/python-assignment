{
 "cells": [
  {
   "cell_type": "code",
   "execution_count": 7,
   "metadata": {},
   "outputs": [
    {
     "name": "stdout",
     "output_type": "stream",
     "text": [
      "The number of elements in the list that divisible by 3 are:  [4596, 7161, 8820, 6363, 6483, 8820, 6363]\n",
      "The square of even numbers are:  [21123216, 77792400, 4194304, 23931664, 77792400, 4194304]\n",
      "The sum of digits of the even numbers in the list are:  111\n",
      "List before removing duplicates:  [4596, 7161, 8820, 2048, 6363, 4892, 9011, 6483, 8347, 8820, 2048, 6363]\n",
      "The list without duplicate numbers: [4596, 7161, 8820, 2048, 6363, 4892, 9011, 6483, 8347]\n"
     ]
    }
   ],
   "source": [
    "#domain= bank account management system\n",
    "#list value= last 4 digits of the debit card\n",
    "\n",
    "\n",
    "a=[4596,7161,8820,2048,6363,4892,9011,6483,8347,8820,2048,6363]\n",
    "\n",
    "\n",
    "#1\n",
    "c= []     \n",
    "for i in a:\n",
    "    if(i%3==0):\n",
    "        c.append(i)\n",
    "print(\"The number of elements in the list that divisible by 3 are: \",c)\n",
    "\n",
    "#2\n",
    "b= []\n",
    "for i in a:\n",
    "    if(i%2==0):\n",
    "        b.append(i*i)\n",
    "print(\"The square of even numbers are: \",b)\n",
    "\n",
    "#3\n",
    "even_sum = 0\n",
    "for e in a:\n",
    "    for d in str(e):\n",
    "        if int(e)%2 == 0:\n",
    "            even_sum += int(d)\n",
    "    \n",
    "print(\"The sum of digits of the even numbers in the list are: \", even_sum)\n",
    "\n",
    "\n",
    "#4\n",
    "print(\"List before removing duplicates: \", a)\n",
    "r=[]\n",
    "[r.append(x) for x in a if x not in r]\n",
    "print(\"The list without duplicate numbers: \" + str(r))\n",
    "            \n",
    "\n",
    "\n",
    "        \n",
    "\n",
    "\n",
    "\n",
    "\n",
    "\n",
    "   \n",
    "    \n",
    "    "
   ]
  },
  {
   "cell_type": "code",
   "execution_count": 6,
   "metadata": {},
   "outputs": [
    {
     "name": "stdout",
     "output_type": "stream",
     "text": [
      "No employee Found\n"
     ]
    }
   ],
   "source": [
    "employee={\"Ayush\": \"22 September 1999\",\"Richa\": \"28 January 2000\",\"Subhojeet\": \"31 January 2000\",\"Shruti\": \"10 January 2001\",\"Pramod\": \"19 October 1999\",\"Munmun\": \"19 November 2000\"}\n",
    "def birthdate(n):\n",
    "    if(employee.__contains__(n)):\n",
    "        return(employee[n])\n",
    "    else:\n",
    "        return (\"No employee Found\")\n",
    "    \n",
    "name=input(\"Enter name of employee: \")\n",
    "print(birthdate(name))\n",
    "    \n",
    "    "
   ]
  }
 ],
 "metadata": {
  "kernelspec": {
   "display_name": "Python 3",
   "language": "python",
   "name": "python3"
  },
  "language_info": {
   "codemirror_mode": {
    "name": "ipython",
    "version": 3
   },
   "file_extension": ".py",
   "mimetype": "text/x-python",
   "name": "python",
   "nbconvert_exporter": "python",
   "pygments_lexer": "ipython3",
   "version": "3.11.4"
  },
  "orig_nbformat": 4
 },
 "nbformat": 4,
 "nbformat_minor": 2
}
